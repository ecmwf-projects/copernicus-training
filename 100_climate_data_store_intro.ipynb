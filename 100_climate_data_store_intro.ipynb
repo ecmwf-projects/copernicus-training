{
 "cells": [
  {
   "cell_type": "markdown",
   "metadata": {},
   "source": [
    "<img src='./img/c3s_header.png' align='right' width='100%'></img>"
   ]
  },
  {
   "cell_type": "markdown",
   "metadata": {},
   "source": [
    "<br>"
   ]
  },
  {
   "cell_type": "markdown",
   "metadata": {},
   "source": [
    "# The Copernicus Climate Data Store (CDS) - Introduction and data access example"
   ]
  },
  {
   "cell_type": "markdown",
   "metadata": {},
   "source": [
    "This notebook provides you an introduction to the Copernicus Climate Data Store (CDS), an overview of the type of data that can be accessed and gives practical examples how to access and retrieve data from the CDS."
   ]
  },
  {
   "cell_type": "markdown",
   "metadata": {},
   "source": [
    "### Outline\n",
    "* [1 - About](#about)\n",
    "* [2 - C3S data retrieval](#c3s_data_retrieval)\n",
    "  * [2.1 - Access data interactively via the CDS web interface](#access_manual)\n",
    "  * [2.2 - Access data programmatically with the CDS API](#access_programmatic)\n",
    "  * [2.3 - Further resources](#further_resources)\n",
    "* [3 - Example data requests](#example_requests)\n",
    "  * [3.1 - Climate reanalysis](#climate_reanalysis)\n",
    "  * [3.2 - Seasonal forecasts](#seasonal_forecasts)\n",
    "  * [3.3 - Climate projections](#climate_projections)"
   ]
  },
  {
   "cell_type": "markdown",
   "metadata": {},
   "source": [
    "### How to access the notebook\n",
    "* [**nbviewer**](https://nbviewer.org/github/ecmwf-projects/copernicus-training/blob/master/100_climate_data_store_intro.ipynb)\n",
    "* [**Colab**](https://colab.research.google.com/github/ecmwf-projects/copernicus-training/blob/master/100_climate_data_store_intro.ipynb)\n",
    "* [**Binder**](https://mybinder.org/v2/gh/ecmwf-projects/copernicus-training/HEAD?urlpath=lab/tree/100_climate_data_store_intro.ipynb)\n",
    "* [**Kaggle**](https://kaggle.com/kernels/welcome?src=https://github.com/ecmwf-projects/copernicus-training/blob/master/100_climate_data_store_intro.ipynb)"
   ]
  },
  {
   "cell_type": "markdown",
   "metadata": {},
   "source": [
    "<hr>"
   ]
  },
  {
   "cell_type": "markdown",
   "metadata": {},
   "source": [
    "## <a id='about'></a>1. About"
   ]
  },
  {
   "cell_type": "markdown",
   "metadata": {},
   "source": [
    "The [Copernicus Climate Data Store (CDS)](https://cds.climate.copernicus.eu/) is the data access portal of the [Copernicus Climate Change Service (C3S)](https://climate.copernicus.eu/) and offers access to `data` and `applications` about the Earth's past, present and future climate."
   ]
  },
  {
   "cell_type": "markdown",
   "metadata": {},
   "source": [
    "<img src='./img/cds_landing_page.png' align='left' width='80%'></img>"
   ]
  },
  {
   "cell_type": "markdown",
   "metadata": {},
   "source": [
    "## <a id='c3s_data_retrieval'></a>2. Data retrieval"
   ]
  },
  {
   "cell_type": "markdown",
   "metadata": {},
   "source": [
    "There are two ways to access data from the Copernicus Climate Data Store (CDS):\n",
    "* [interactively](#access_manual) via the CDS web interface, or\n",
    "* [programmatically](#access_programmatic) with the CDS API"
   ]
  },
  {
   "cell_type": "markdown",
   "metadata": {},
   "source": [
    "### <a id='access_manual'></a>2.1 Access data interactively via the CDS web interface"
   ]
  },
  {
   "cell_type": "markdown",
   "metadata": {},
   "source": [
    "The `CDS web interface` allows you to interactively `browse`, `select` and `download` datasets offered by the CDS. First, under [Datasets](https://cds.climate.copernicus.eu/cdsapp#!/search?type=dataset), you can browse and select the dataset you are interested in. In a second step, you can then specify details of the data download form you wish to submit."
   ]
  },
  {
   "cell_type": "markdown",
   "metadata": {},
   "source": [
    "#### Filter and select a dataset"
   ]
  },
  {
   "cell_type": "markdown",
   "metadata": {},
   "source": [
    "As a first step, you can `browse` and `filter` the dataset you are interested in. The [Datasets](https://cds.climate.copernicus.eu/cdsapp#!/search?type=dataset) interface allows you either to select data based on different categories, e.g. `Product type`, `Variable domain`, `Spatial / Temporal coverage`, but also offers a free text search. The list of datasets in the main window allows you to select the dataset you are interested in. "
   ]
  },
  {
   "cell_type": "markdown",
   "metadata": {},
   "source": [
    "<br>"
   ]
  },
  {
   "cell_type": "markdown",
   "metadata": {},
   "source": [
    "<img src='./img/cds_web_interface_1.png' align='left' width='60%'></img>"
   ]
  },
  {
   "cell_type": "markdown",
   "metadata": {},
   "source": [
    "<br>"
   ]
  },
  {
   "cell_type": "markdown",
   "metadata": {},
   "source": [
    "Once you selected a dataset, you then get redirected to a data description section, which provides you an overview of the chosen dataset as well as the option to specify the dataset you would like to download and to also to submit the `\"Download data\" form`."
   ]
  },
  {
   "cell_type": "markdown",
   "metadata": {},
   "source": [
    "<br>"
   ]
  },
  {
   "cell_type": "markdown",
   "metadata": {},
   "source": [
    "#### Submit the *Download data* form"
   ]
  },
  {
   "cell_type": "markdown",
   "metadata": {},
   "source": [
    "The `Data description` section (see 1) provides you an overview of the dataset, including a list of variables that are available. Under the tab `Download data`, the `\"Download data\" form` opens (see 2) which allows you to  interactively filter the dataset based on specific keywords, e.g.:\n",
    "* `Product type`\n",
    "* `Variable`\n",
    "* `Year / Month / Time`\n",
    "* `Geographical area`\n",
    "* `Format`\n",
    "\n",
    "At the end of the `\"Download data\" form`, you get three options: `Show API request`, `Show Toolbox request` and `Submit Form`. If you want to download the data interactively, the data requests will be executed as soon as you click on the `Submit Form` button. \n",
    "\n",
    "**Note:** You need to be logged into the ADS portal and you have to accept the Terms and Conditions of the dataset before being able to download data.\n",
    "\n",
    "\n",
    "You will need the `Show API request`, if you want to request data programmatically. See [Section 2.2](#access_programmatic) for further information. You will need the `Show Toolbox request`  if you want to request data via the CDS Toolbox. Learn more about the CDS Toolbox [here](https://cds.climate.copernicus.eu/cdsapp#!/toolbox).\n"
   ]
  },
  {
   "cell_type": "markdown",
   "metadata": {},
   "source": [
    "<div class=\"alert alert-block alert-success\">\n",
    "<b>NOTE</b>: <br>\n",
    "    Under the tab <code>Your requests</code> in the main menu, you can monitor the status of your data requests.</div>\n",
    "\n",
    "<br>"
   ]
  },
  {
   "cell_type": "markdown",
   "metadata": {},
   "source": [
    "<img src='./img/cds_data_description_download_form.png' align='left' width='60%'></img>"
   ]
  },
  {
   "cell_type": "markdown",
   "metadata": {},
   "source": [
    "<br>"
   ]
  },
  {
   "cell_type": "markdown",
   "metadata": {},
   "source": [
    "### <a id='access_programmatic'></a>2.2 Access data programmatically with the CDS API"
   ]
  },
  {
   "cell_type": "markdown",
   "metadata": {},
   "source": [
    "The `Climate Data Store Application Program Interface (CDS API)` is a Python library which allows you to access data from the CDS programmatically. The library is available for both Python versions, Python 2.7.x and Python 3, but we recommend to use the library under Python 3. In order to use the CDS API, follow the steps below:"
   ]
  },
  {
   "cell_type": "markdown",
   "metadata": {},
   "source": [
    "#### Install the CDS API key"
   ]
  },
  {
   "cell_type": "markdown",
   "metadata": {},
   "source": [
    "* [Self-register](https://cds.climate.copernicus.eu/#!/home) at the CDS registration page (if you do not have an account yet)\n",
    "* [Login](https://cds.climate.copernicus.eu/user/login) to the CDS portal and go to the [api-how-to page](https://cds.climate.copernicus.eu/api-how-to)\n",
    "* Copy the CDS API key displayed in the black terminal window in a file under `$HOME/.cdsapirc`\n",
    "\n",
    "**Note:** You find your CDS API key displayed in the black terminal box under the section `Install the CDS API key`. If you do not see a URL or key appear in the black terminal box, please refresh your browser tab. \n",
    "  "
   ]
  },
  {
   "cell_type": "markdown",
   "metadata": {},
   "source": [
    "<img src='./img/cds_api_key.png' align='left' width='60%'></img>"
   ]
  },
  {
   "cell_type": "markdown",
   "metadata": {},
   "source": [
    "The code below creates the file under your current working directory. Make sure to replace the `################` with your personal `CDS API key`.\n"
   ]
  },
  {
   "cell_type": "code",
   "execution_count": null,
   "metadata": {},
   "outputs": [
    {
     "name": "stdout",
     "output_type": "stream",
     "text": [
      "Overwriting ./.cdsapirc\n"
     ]
    }
   ],
   "source": [
    "%%writefile ./.cdsapirc\n",
    "\n",
    "url: https://cds.climate.copernicus.eu/api/v2\n",
    "key: ##############################"
   ]
  },
  {
   "cell_type": "markdown",
   "metadata": {},
   "source": [
    "<br>"
   ]
  },
  {
   "cell_type": "markdown",
   "metadata": {},
   "source": [
    "#### Alternative: Set CDS API credentials manually"
   ]
  },
  {
   "cell_type": "markdown",
   "metadata": {},
   "source": [
    "Alternatively, you can also define variables for `url` and `key`. These variables can then be set when you define the `cdsapi.Client(url=URL, key=KEY)` in your script (see next section for the different components of a data retrieval request).\n",
    "\n",
    "**Please note:** in the workflow notebooks, we will use this modality and set manually the CDS API key information for the data retrievals."
   ]
  },
  {
   "cell_type": "code",
   "execution_count": 1,
   "metadata": {},
   "outputs": [],
   "source": [
    "URL = 'https://cds.climate.copernicus.eu/api/v2'\n",
    "KEY = '############################'"
   ]
  },
  {
   "cell_type": "markdown",
   "metadata": {},
   "source": [
    "<br>"
   ]
  },
  {
   "cell_type": "markdown",
   "metadata": {},
   "source": [
    "#### Install the CDS API client"
   ]
  },
  {
   "cell_type": "markdown",
   "metadata": {},
   "source": [
    "The next step is to install the `CDS API client`. You can do this with the package management system `pip`."
   ]
  },
  {
   "cell_type": "code",
   "execution_count": null,
   "metadata": {},
   "outputs": [],
   "source": [
    "!pip install cdsapi"
   ]
  },
  {
   "cell_type": "markdown",
   "metadata": {},
   "source": [
    "<br>"
   ]
  },
  {
   "cell_type": "markdown",
   "metadata": {},
   "source": [
    "#### Use the CDS API client for data access"
   ]
  },
  {
   "cell_type": "markdown",
   "metadata": {},
   "source": [
    "Once the `CDS API` is installed, it can be used to request data from the Climate Data Store."
   ]
  },
  {
   "cell_type": "markdown",
   "metadata": {},
   "source": [
    "Below, you see the principle of a `data retrieval` request. You always have to make sure to first import the `cdsapi` and define a `cdsapi.Client()` before you are able to execute an `API request`. You can use the [web interface](https://cds.climate.copernicus.eu/cdsapp#!/search?type=dataset) to browse through the datasets. At the end of the `\"Download data\" form`, there is the option to choose `Show API request`. If you click this button, the `API request` appears (see example below), which you can copy paste into your coding workflow.\n",
    "\n",
    "<br>\n",
    "\n",
    "<div><img src='./img/cdsapi_request.png' align='left' width='30%'></img></div>\n",
    "\n",
    "\n",
    "\n",
    "\n"
   ]
  },
  {
   "cell_type": "markdown",
   "metadata": {},
   "source": [
    "<br>\n",
    "\n",
    "<div class=\"alert alert-block alert-success\">\n",
    "<b>NOTE</b>: <br>\n",
    "    For data originating from ECMWF's Meteorological and Archival System (MARS), data is stored on a grid with longitudes from 0 to 360 degrees. It can be reprojected to a regular geographic latitude-longitude grid, by setting the keyword argument <code>area</code> and <code>grid</code>. Per default, data is retrieved in <code>GRIB</code>. If you wish to retrieve the data in <code>netCDF</code>, you have to specify it by using the keyword argument <code>format</code>.</div>\n",
    "    \n",
    "<br>\n"
   ]
  },
  {
   "cell_type": "markdown",
   "metadata": {},
   "source": [
    "### <a id='further_resources'></a> 2.3 Further resources\n",
    "\n",
    "* [Climate Data Store (ADS) documentation](https://confluence.ecmwf.int/x/QhhsCg)\n",
    "* [Common Error Messages for CDS Requests](https://confluence.ecmwf.int/x/RKOpD)\n",
    "* [Climate Data Store (CDS) API Keywords](https://confluence.ecmwf.int/x/kjo1Cw)"
   ]
  },
  {
   "cell_type": "markdown",
   "metadata": {},
   "source": [
    "<hr>"
   ]
  },
  {
   "cell_type": "markdown",
   "metadata": {},
   "source": [
    "## <a id='example_requests'></a>3. Example data request"
   ]
  },
  {
   "cell_type": "markdown",
   "metadata": {},
   "source": [
    "Below, you find a list of CDS API requests that have been used to retrieve the datasets used throughout the learning modules\n",
    "\n",
    "* [Climate reanalysis](#climate_reanalysis)\n",
    "  * [ERA5 monthly average data on single levels from 1979 to present](#era5_monthly)\n",
    "  * [ERA5 hourly data on single levels from 1979 to present](#era5_hourly)\n",
    "  * [ERA5-Land hourly data on single levels from 1981 to present](#era5-land_hourly)\n",
    "* [Seasonal forecasts](#seasonal_forecasts)\n",
    "  * [Seasonal forecast monthly statistics on single levels - Retrospective forecasts (Hindcasts)](#seas5_hindcasts)\n",
    "  * [Seasonal forecast monthly statistics on single levels - Hindcast climate mean](#seas5_hindcast_mean)\n",
    "  * [Seasonal forecast monthly statistics on single levels - Forecasts](#seas5_monthly_forecast)\n",
    "  * [Seasonal forecast anomalies on single levels](#seas5_monthly_anomalies)\n",
    "* [Climate projections](#climate_projections)\n",
    "  * [CMIP6 global climate projections - Experiment: Historical](#cmip6_historical)\n",
    "  * [CMIP6 global climate projections - Experiment: SSP1-2.6](#cmip6_ssp126)\n",
    "  * [CMIP6 global climate projections - Experiment: SSP2-4.5](#cmip6_ssp245)\n",
    "  * [CMIP6 global climate projections - Experiment: SSP5-8.5](#cmip6_ssp585)\n",
    "  * [CORDEX regional climate model data on single levels - Experiment: Historical](#cordex_historical)\n",
    "  * [CORDEX regional climate model data on single levels - Experiment: RCP4.5](#cordex_rcp45)"
   ]
  },
  {
   "cell_type": "markdown",
   "metadata": {},
   "source": [
    "#### <a id='era5_monthly_seas5'></a>Example: **ERA5 monthly averaged data on single levels from 1979 to present**"
   ]
  },
  {
   "cell_type": "markdown",
   "metadata": {},
   "source": [
    "> Data used in [122_c3s_bias_correction](./122_c3s_seasonal_forecast_bias_correction.ipynb)"
   ]
  },
  {
   "cell_type": "markdown",
   "metadata": {},
   "source": [
    "CDS API name: `reanalysis-era5-single-levels-monthly-means`\n",
    "\n",
    "> - Product type: `monthly_averaged_reanalysis`\n",
    "> - Variable: `sea_surface_temperature`\n",
    "> - Year: `[1993 to 2016]`\n",
    "> - Month: `['01', '02', '09', '10', '11', '12']`\n",
    "> - Time: `00:00` (default)\n",
    "> - Geographical area: `Whole available region` \n",
    "> - Format: `grib`"
   ]
  },
  {
   "cell_type": "code",
   "execution_count": null,
   "metadata": {},
   "outputs": [],
   "source": [
    "c = cdsapi.Client()\n",
    "\n",
    "c.retrieve(\n",
    "    'reanalysis-era5-single-levels-monthly-means',\n",
    "    {\n",
    "        'product_type': 'monthly_averaged_reanalysis',\n",
    "        'variable': 'sea_surface_temperature',\n",
    "        'year': [\n",
    "            '1993', '1994', '1995',\n",
    "            '1996', '1997', '1998',\n",
    "            '1999', '2000', '2001',\n",
    "            '2002', '2003', '2004',\n",
    "            '2005', '2006', '2007',\n",
    "            '2008', '2009', '2010',\n",
    "            '2011', '2012', '2013',\n",
    "            '2014', '2015', '2016',\n",
    "        ],\n",
    "        'month': [\n",
    "            '01', '02', '09',\n",
    "            '10', '11', '12',\n",
    "        ],\n",
    "        'time': '00:00',\n",
    "        'format': 'grib',\n",
    "    },\n",
    "    './data/era5_monthly_1993-2016_sep-feb_sst.grib')"
   ]
  },
  {
   "cell_type": "markdown",
   "metadata": {},
   "source": [
    "<br>"
   ]
  },
  {
   "cell_type": "markdown",
   "metadata": {},
   "source": [
    "#### <a id='era5-land_hourly'></a>Example: **ERA5-Land hourly data from 1950 to present**"
   ]
  },
  {
   "cell_type": "markdown",
   "metadata": {},
   "source": [
    "> Data used in [113_c3s_climate_indices](./113_c3s_climate_indices.ipynb)"
   ]
  },
  {
   "cell_type": "markdown",
   "metadata": {},
   "source": [
    "CDS API name: `reanalysis-era5-land`\n",
    "\n",
    "> - Variable: `['10m_u_component_of_wind', '10m_v_component_of_wind','2m_temperature']`\n",
    "> - Year: `[1981 to 2020]`\n",
    "> - Month: `12`\n",
    "> - Day: `15`\n",
    "> - Time: `12:00`\n",
    "> - Area: `[60, -10, 35, 30]` # North, West, South, East\n",
    "> - Format: `netcdf`"
   ]
  },
  {
   "cell_type": "markdown",
   "metadata": {},
   "source": [
    "**Note:** the request above makes use of the keyword `area`, which enable you to retrieve only a geographical subset. The bounding box information are set as follows: `[N, W, S, E]`. When this keyword is set, the data is automatically projected to a grid from [-180, 180].  "
   ]
  },
  {
   "cell_type": "code",
   "execution_count": null,
   "metadata": {},
   "outputs": [],
   "source": [
    "import cdsapi\n",
    "c = cdsapi.Client()\n",
    "c.retrieve(\n",
    "    'reanalysis-era5-land',\n",
    "    {\n",
    "        'variable': [\n",
    "            '10m_u_component_of_wind', '10m_v_component_of_wind', '2m_temperature',\n",
    "        ],\n",
    "        'year': [\n",
    "            '1981', '1982', '1983',\n",
    "            '1984', '1985', '1986',\n",
    "            '1987', '1988', '1989',\n",
    "            '1990', '1991', '1992',\n",
    "            '1993', '1994', '1995',\n",
    "            '1996', '1997', '1998',\n",
    "            '1999', '2000', '2001',\n",
    "            '2002', '2003', '2004',\n",
    "            '2005', '2006', '2007',\n",
    "            '2008', '2009', '2010',\n",
    "            '2011', '2012', '2013',\n",
    "            '2014', '2015', '2016',\n",
    "            '2017', '2018', '2019',\n",
    "            '2020',\n",
    "        ],\n",
    "        'month': '12',\n",
    "        'day': '15',\n",
    "        'time': '12:00',\n",
    "        'format': 'netcdf',\n",
    "        'area': [\n",
    "            60, -10, 35,\n",
    "            30,\n",
    "        ],\n",
    "    },\n",
    "    './data/era5-land_eur_1981_2020.nc')"
   ]
  },
  {
   "cell_type": "markdown",
   "metadata": {},
   "source": [
    "<hr>"
   ]
  },
  {
   "cell_type": "markdown",
   "metadata": {},
   "source": [
    "### <a id='seasonal_forecasts'></a>4.2 Seasonal forecasts"
   ]
  },
  {
   "cell_type": "markdown",
   "metadata": {},
   "source": [
    "* [Seasonal forecast monthly statistics on single levels - Retrospective forecasts (Hindcasts)](#seas5_hindcasts)\n",
    "* [Seasonal forecast monthly statistics on single levels - Hindcast climate mean](#seas5_hindcast_mean)\n",
    "* [Seasonal forecast monthly statistics on single levels - Forecasts](#seas5_monthly_forecast)\n",
    "* [Seasonal forecast anomalies on single levels](#seas5_monthly_anomalies)"
   ]
  },
  {
   "cell_type": "markdown",
   "metadata": {},
   "source": [
    "#### <a id='seas5_monthly_hindcast'></a>Example: **Seasonal forecast monthly statistics on single levels - Retrospective forecasts (Hindcasts)**"
   ]
  },
  {
   "cell_type": "markdown",
   "metadata": {},
   "source": [
    "> Data used in \n",
    "> * [121_c3s_seasonal_forecast anomalies](./121_c3s_seasonal_forecasts_anomalies.ipynb)\n",
    "> * [122_c3s_seasonal_forecast_bias_correction](./122_c3s_seasonal_forecasts_bias_correction.ipynb)"
   ]
  },
  {
   "cell_type": "markdown",
   "metadata": {},
   "source": [
    "CDS API name: `seasonal-monthly-single-levels`\n",
    "\n",
    "> - Originating centre: `ecmwf`\n",
    "> - System: `5`\n",
    "> - Product type: `monthly_mean`\n",
    "> - Variable: `['total_precipitation', 'sea_surface_temperature']`\n",
    "> - Year: `[1993 to 2016]` # Hindcast data\n",
    "> - Month: `09`\n",
    "> - Leadtime month: `['1', '2', '3', '4', '5', '6']`\n",
    "> - Geographical area: `Whole available region` \n",
    "> - Format: `grib`"
   ]
  },
  {
   "cell_type": "code",
   "execution_count": null,
   "metadata": {},
   "outputs": [],
   "source": [
    "import cdsapi\n",
    "\n",
    "c = cdsapi.Client()\n",
    "\n",
    "c.retrieve(\n",
    "    'seasonal-monthly-single-levels',\n",
    "    {\n",
    "        'format': 'grib',\n",
    "        'originating_centre': 'ecmwf',\n",
    "        'system': '5',\n",
    "        'variable': ['total_precipitation','sea_surface_temperature'],\n",
    "        'product_type': 'monthly_mean',\n",
    "        'year': [\n",
    "            '1993', '1994', '1995',\n",
    "            '1996', '1997', '1998',\n",
    "            '1999', '2000', '2001',\n",
    "            '2002', '2003', '2004',\n",
    "            '2005', '2006', '2007',\n",
    "            '2008', '2009', '2010',\n",
    "            '2011', '2012', '2013',\n",
    "            '2014', '2015', '2016',\n",
    "        ],\n",
    "        'month': '09',\n",
    "        'leadtime_month': [\n",
    "            '1', '2', '3',\n",
    "            '4', '5', '6',\n",
    "        ],\n",
    "    },\n",
    "    './data/ecmwf_seas5_1993-2016_09_hindcast_monthly.grib')"
   ]
  },
  {
   "cell_type": "markdown",
   "metadata": {},
   "source": [
    "<br>"
   ]
  },
  {
   "cell_type": "markdown",
   "metadata": {},
   "source": [
    "#### <a id='seas5_monthly_hindcast_mean'></a>Example: **Seasonal forecast monthly statistics on single levels - Hindcast climate mean**"
   ]
  },
  {
   "cell_type": "markdown",
   "metadata": {},
   "source": [
    "> Data used in [121_c3s_seasonal_forecast anomalies](./121_c3s_seasonal_forecasts_anomalies.ipynb)"
   ]
  },
  {
   "cell_type": "markdown",
   "metadata": {},
   "source": [
    "CDS API name: `seasonal-monthly-single-levels`\n",
    "\n",
    "> - Originating centre: `ecmwf`\n",
    "> - System: `5`\n",
    "> - Product type: `hindcast_climate_mean`\n",
    "> - Variable: `'total_precipitation'`\n",
    "> - Year: `2021`\n",
    "> - Month: `09`\n",
    "> - Leadtime month: `['1', '2', '3', '4', '5', '6']`\n",
    "> - Geographical area: `Whole available region` \n",
    "> - Format: `grib`"
   ]
  },
  {
   "cell_type": "code",
   "execution_count": null,
   "metadata": {},
   "outputs": [],
   "source": [
    "import cdsapi\n",
    "\n",
    "c = cdsapi.Client()\n",
    "\n",
    "c.retrieve(\n",
    "    'seasonal-monthly-single-levels',\n",
    "    {\n",
    "        'format': 'grib',\n",
    "        'originating_centre': 'ecmwf',\n",
    "        'system': '5',\n",
    "        'variable': 'total_precipitation',\n",
    "        'product_type': 'hindcast_climate_mean',\n",
    "        'month': '09',\n",
    "        'leadtime_month': [\n",
    "            '1', '2', '3',\n",
    "            '4', '5', '6',\n",
    "        ],\n",
    "        'year': '2021',\n",
    "    },\n",
    "    './data/ecmwf_seas5_hincast_climate_mean_tp.grib')"
   ]
  },
  {
   "cell_type": "markdown",
   "metadata": {},
   "source": [
    "<br>"
   ]
  },
  {
   "cell_type": "markdown",
   "metadata": {},
   "source": [
    "#### <a id='seas5_monthly_forecast'></a>Example: **Seasonal forecast monthly statistics on single levels - Forecasts**"
   ]
  },
  {
   "cell_type": "markdown",
   "metadata": {},
   "source": [
    "> Data used in \n",
    "> * [121_c3s_seasonal_forecast anomalies](./121_c3s_seasonal_forecasts_anomalies.ipynb)\n",
    "> * [122_c3s_seasonal_forecast_bias_correction](./122_c3s_seasonal_forecasts_bias_correction.ipynb)"
   ]
  },
  {
   "cell_type": "markdown",
   "metadata": {},
   "source": [
    "CDS API name: `seasonal-monthly-single-levels`\n",
    "\n",
    "> - Originating centre: `ecmwf`\n",
    "> - System: `5`\n",
    "> - Product type: `monthly_mean`\n",
    "> - Variable: `['total_precipitation', 'sea_surface_temperature']`\n",
    "> - Year: `2021`\n",
    "> - Month: `09`\n",
    "> - Leadtime month: `['1', '2', '3', '4', '5', '6']`\n",
    "> - Geographical area: `Whole available region` \n",
    "> - Format: `grib`"
   ]
  },
  {
   "cell_type": "code",
   "execution_count": null,
   "metadata": {},
   "outputs": [],
   "source": [
    "import cdsapi\n",
    "\n",
    "c = cdsapi.Client()\n",
    "\n",
    "c.retrieve(\n",
    "    'seasonal-monthly-single-levels',\n",
    "    {\n",
    "        'format': 'grib',\n",
    "        'originating_centre': 'ecmwf',\n",
    "        'system': '5',\n",
    "        'variable': ['total_precipitation', 'sea_surface_temperature'],\n",
    "        'product_type': 'monthly_mean',\n",
    "        'year': '2021',\n",
    "        'month': '09',\n",
    "        'leadtime_month': [\n",
    "            '1', '2', '3',\n",
    "            '4', '5', '6',\n",
    "        ],\n",
    "    },\n",
    "    './data/ecmwf_seas5_2021_09_forecast_monthly.grib')"
   ]
  },
  {
   "cell_type": "markdown",
   "metadata": {},
   "source": [
    "<br>"
   ]
  },
  {
   "cell_type": "markdown",
   "metadata": {},
   "source": [
    "#### <a id='seas5_monthly_anomalies'></a>Example: **Seasonal forecast anomalies on single levels**"
   ]
  },
  {
   "cell_type": "markdown",
   "metadata": {},
   "source": [
    "> Data used in [121_c3s_seasonal_forecast anomalies](./121_c3s_seasonal_forecasts_anomalies.ipynb)"
   ]
  },
  {
   "cell_type": "markdown",
   "metadata": {},
   "source": [
    "CDS API name: `seasonal-postprocessed-single-levels`\n",
    "\n",
    "> - Originating centre: `ecmwf`\n",
    "> - System: `5`\n",
    "> - Product type: `ensemble_mean`\n",
    "> - Variable: `['total_precipitation_anomalous_rate_of_accumulation']`\n",
    "> - Year: `2021`\n",
    "> - Month: `09`\n",
    "> - Leadtime month: `['1', '2', '3', '4', '5', '6']`\n",
    "> - Geographical area: `Whole available region` \n",
    "> - Format: `grib`"
   ]
  },
  {
   "cell_type": "code",
   "execution_count": null,
   "metadata": {},
   "outputs": [],
   "source": [
    "import cdsapi\n",
    "\n",
    "c = cdsapi.Client()\n",
    "\n",
    "c.retrieve(\n",
    "    'seasonal-postprocessed-single-levels',\n",
    "    {\n",
    "        'format': 'grib',\n",
    "        'originating_centre': 'ecmwf',\n",
    "        'system': '5',\n",
    "        'variable': 'total_precipitation_anomalous_rate_of_accumulation',\n",
    "        'product_type': 'ensemble_mean',\n",
    "        'year': '2021',\n",
    "        'month': '09',\n",
    "        'leadtime_month': [\n",
    "            '1', '2', '3',\n",
    "            '4', '5', '6',\n",
    "        ],\n",
    "    },\n",
    "    './ecmwf_seas5_anomalies_2021_09_tp.grib')"
   ]
  },
  {
   "cell_type": "markdown",
   "metadata": {},
   "source": [
    "<hr>"
   ]
  },
  {
   "cell_type": "markdown",
   "metadata": {},
   "source": [
    "#### <a id='cordex_historical'></a>Example: **CORDEX regional climate model data on single levels - Experiment: Historical**"
   ]
  },
  {
   "cell_type": "markdown",
   "metadata": {},
   "source": [
    "> Data used in \n",
    "> * [132_c3s_cordex_regional_climate_projections](./132_c3s_cordex_regional_climate_projections.ipynb)"
   ]
  },
  {
   "cell_type": "markdown",
   "metadata": {},
   "source": [
    "CDS API name: `projections-cordex-domains-single-levels`\n",
    "\n",
    "> - Domain: `africa`\n",
    "> - Experiment: `historical`\n",
    "> - Temporal resolution: `daily_mean`\n",
    "> - Variable: `2m_air_temperature`\n",
    "> - GCM model: `ccma_canesm2`\n",
    "> - RCM model: `cccma_canrcm4`\n",
    "> - Ensemble member: `r1i1p1`\n",
    "> - Start year: `1975`\n",
    "> - End year: `2000` \n",
    "> - Format: `zip`"
   ]
  },
  {
   "cell_type": "code",
   "execution_count": 8,
   "metadata": {},
   "outputs": [
    {
     "name": "stderr",
     "output_type": "stream",
     "text": [
      "2021-10-29 06:49:20,469 INFO Welcome to the CDS\n",
      "2021-10-29 06:49:20,470 INFO Sending request to https://cds.climate.copernicus.eu/api/v2/resources/projections-cordex-domains-single-levels\n",
      "2021-10-29 06:49:20,760 INFO Request is queued\n",
      "2021-10-29 06:49:21,820 INFO Request is running\n",
      "2021-10-29 06:53:39,220 INFO Request is completed\n",
      "2021-10-29 06:53:39,221 INFO Downloading https://download-0010.copernicus-climate.eu/cache-compute-0010/cache/data1/dataset-projections-cordex-domains-single-levels-7afd1dd1-cd07-4f3d-be9b-973c24604201.zip to ./data/1971-2000_cordex_rcp_4_5_africa.zip (908.2M)\n",
      "2021-10-29 06:56:55,574 INFO Download rate 4.6M/s  \n"
     ]
    },
    {
     "data": {
      "text/plain": [
       "Result(content_length=952308195,content_type=application/zip,location=https://download-0010.copernicus-climate.eu/cache-compute-0010/cache/data1/dataset-projections-cordex-domains-single-levels-7afd1dd1-cd07-4f3d-be9b-973c24604201.zip)"
      ]
     },
     "execution_count": 8,
     "metadata": {},
     "output_type": "execute_result"
    }
   ],
   "source": [
    "import cdsapi\n",
    "\n",
    "c = cdsapi.Client()\n",
    "\n",
    "c.retrieve(\n",
    "    'projections-cordex-domains-single-levels',\n",
    "    {\n",
    "        'format': 'zip',\n",
    "        'end_year': [\n",
    "            '1975', '1980', '1985', '1990', '1995', '2000'\n",
    "        ],\n",
    "        'start_year': [\n",
    "            '1971', '1976', '1981', '1986', '1991', '1996'\n",
    "        ],\n",
    "        'ensemble_member': 'r1i1p1',\n",
    "        'rcm_model': 'cccma_canrcm4',\n",
    "        'gcm_model': 'cccma_canesm2',\n",
    "        'variable': '2m_air_temperature',\n",
    "        'horizontal_resolution': '0_44_degree_x_0_44_degree',\n",
    "        'temporal_resolution': 'daily_mean',\n",
    "        'domain': 'africa',\n",
    "        'experiment': 'historical',\n",
    "    },\n",
    "    './data/1971-2000_cordex_rcp_4_5_africa.zip')"
   ]
  },
  {
   "cell_type": "markdown",
   "metadata": {},
   "source": [
    "<br>"
   ]
  },
  {
   "cell_type": "markdown",
   "metadata": {},
   "source": [
    "#### <a id='cordex_rcp45'></a>Example: **CORDEX regional climate model data on single levels - Experiment: RCP4.5**"
   ]
  },
  {
   "cell_type": "markdown",
   "metadata": {},
   "source": [
    "> Data used in \n",
    "> * [132_c3s_cordex_regional_climate_projections](./132_c3s_cordex_regional_climate_projections.ipynb)"
   ]
  },
  {
   "cell_type": "markdown",
   "metadata": {},
   "source": [
    "CDS API name: `projections-cordex-domains-single-levels`\n",
    "\n",
    "> - Domain: `africa`\n",
    "> - Experiment: `rcp_4_5`\n",
    "> - Temporal resolution: `daily_mean`\n",
    "> - Variable: `2m_air_temperature`\n",
    "> - GCM model: `ccma_canesm2`\n",
    "> - RCM model: `cccma_canrcm4`\n",
    "> - Ensemble member: `r1i1p1`\n",
    "> - Start year: `2071`\n",
    "> - End year: `2100` \n",
    "> - Format: `zip`"
   ]
  },
  {
   "cell_type": "code",
   "execution_count": 7,
   "metadata": {},
   "outputs": [
    {
     "name": "stderr",
     "output_type": "stream",
     "text": [
      "2021-10-29 06:37:55,472 INFO Welcome to the CDS\n",
      "2021-10-29 06:37:55,473 INFO Sending request to https://cds.climate.copernicus.eu/api/v2/resources/projections-cordex-domains-single-levels\n",
      "2021-10-29 06:37:55,743 INFO Request is queued\n",
      "2021-10-29 06:37:56,802 INFO Request is running\n",
      "2021-10-29 06:44:14,322 INFO Request is completed\n",
      "2021-10-29 06:44:14,323 INFO Downloading https://download-0006.copernicus-climate.eu/cache-compute-0006/cache/data4/dataset-projections-cordex-domains-single-levels-676cf209-b91b-4a49-99e7-7acbe1287548.zip to ./data/2071-2100_cordex_rcp_4_5_africa.zip (908.1M)\n",
      "2021-10-29 06:47:31,474 INFO Download rate 4.6M/s  \n"
     ]
    },
    {
     "data": {
      "text/plain": [
       "Result(content_length=952229444,content_type=application/zip,location=https://download-0006.copernicus-climate.eu/cache-compute-0006/cache/data4/dataset-projections-cordex-domains-single-levels-676cf209-b91b-4a49-99e7-7acbe1287548.zip)"
      ]
     },
     "execution_count": 7,
     "metadata": {},
     "output_type": "execute_result"
    }
   ],
   "source": [
    "import cdsapi\n",
    "c = cdsapi.Client()\n",
    "c.retrieve(\n",
    "    'projections-cordex-domains-single-levels',\n",
    "    {\n",
    "        'domain': 'africa',\n",
    "        'experiment': 'rcp_4_5',\n",
    "        'horizontal_resolution': '0_44_degree_x_0_44_degree',\n",
    "        'temporal_resolution': 'daily_mean',\n",
    "        'variable': '2m_air_temperature',\n",
    "        'gcm_model': 'cccma_canesm2',\n",
    "        'rcm_model': 'cccma_canrcm4',\n",
    "        'ensemble_member': 'r1i1p1',\n",
    "        'start_year': ['2071', '2076', '2081', '2086', '2091', '2096'],\n",
    "        'end_year': ['2075', '2080', '2085', '2090', '2095','2100'],\n",
    "        'format': 'zip',\n",
    "    },\n",
    "    './data/2071-2100_cordex_rcp_4_5_africa.zip')"
   ]
  },
  {
   "cell_type": "markdown",
   "metadata": {},
   "source": [
    "<hr>"
   ]
  },
  {
   "cell_type": "markdown",
   "metadata": {},
   "source": [
    "<p><img src='./img/copernicus_logo.png' align='right' alt='Logo EU Copernicus' width='20%'></img></p>\n",
    "<br><br><br><br><br>\n",
    "<span style='float:right'><p style=\\\"text-align:right;\\\">This project is licensed under <a href=\"./LICENSE\">APACHE License 2.0</a>. | <a href=\\\"https://github.com/ecmwf-projects/copernicus-training\">View on GitHub</a></span>"
   ]
  }
 ],
 "metadata": {
  "kernelspec": {
   "display_name": "Python 3",
   "language": "python",
   "name": "python3"
  },
  "language_info": {
   "codemirror_mode": {
    "name": "ipython",
    "version": 3
   },
   "file_extension": ".py",
   "mimetype": "text/x-python",
   "name": "python",
   "nbconvert_exporter": "python",
   "pygments_lexer": "ipython3",
   "version": "3.8.8"
  }
 },
 "nbformat": 4,
 "nbformat_minor": 4
}
