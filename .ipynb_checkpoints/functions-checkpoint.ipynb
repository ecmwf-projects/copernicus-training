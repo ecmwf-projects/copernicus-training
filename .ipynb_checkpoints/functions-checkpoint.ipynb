{
 "cells": [
  {
   "cell_type": "markdown",
   "metadata": {},
   "source": [
    "<img src='./img/header_placeholder.png' alt='Logo EU Copernicus ECMWF' align='right' width='100%'></img>"
   ]
  },
  {
   "cell_type": "markdown",
   "metadata": {},
   "source": [
    "<br>"
   ]
  },
  {
   "cell_type": "markdown",
   "metadata": {},
   "source": [
    "# Functions"
   ]
  },
  {
   "cell_type": "markdown",
   "metadata": {},
   "source": [
    "* [visualize_pcolormesh](#visualize_pcolormesh)"
   ]
  },
  {
   "cell_type": "markdown",
   "metadata": {},
   "source": [
    "<hr>"
   ]
  },
  {
   "cell_type": "markdown",
   "metadata": {},
   "source": [
    "### `visualize_pcolormesh`"
   ]
  },
  {
   "cell_type": "code",
   "execution_count": null,
   "metadata": {},
   "outputs": [],
   "source": [
    "def visualize_pcolormesh(data_array, longitude, latitude, projection, color_scale, unit, long_name, vmin, vmax, \n",
    "                         set_global=True, lonmin=-180, lonmax=180, latmin=-90, latmax=90):\n",
    "    \"\"\" \n",
    "    Visualizes a xarray.DataArray with matplotlib's pcolormesh function.\n",
    "    \n",
    "    Parameters:\n",
    "        data_array(xarray.DataArray): xarray.DataArray holding the data values\n",
    "        longitude(xarray.DataArray): xarray.DataArray holding the longitude values\n",
    "        latitude(xarray.DataArray): xarray.DataArray holding the latitude values\n",
    "        projection(str): a projection provided by the cartopy library, e.g. ccrs.PlateCarree()\n",
    "        color_scale(str): string taken from matplotlib's color ramp reference\n",
    "        unit(str): the unit of the parameter, taken from the NetCDF file if possible\n",
    "        long_name(str): long name of the parameter, taken from the NetCDF file if possible\n",
    "        vmin(int): minimum number on visualisation legend\n",
    "        vmax(int): maximum number on visualisation legend\n",
    "        set_global(boolean): optional kwarg, default is True\n",
    "        lonmin,lonmax,latmin,latmax(float): optional kwarg, set geographic extent is set_global kwarg is set to \n",
    "                                            False\n",
    "\n",
    "    \"\"\"\n",
    "    fig=plt.figure(figsize=(20, 10))\n",
    "\n",
    "    ax = plt.axes(projection=projection)\n",
    "   \n",
    "    img = plt.pcolormesh(longitude, latitude, data_array, \n",
    "                        cmap=plt.get_cmap(color_scale), transform=ccrs.PlateCarree(),\n",
    "                        vmin=vmin,\n",
    "                        vmax=vmax,\n",
    "                        shading='auto')\n",
    "\n",
    "    ax.add_feature(cfeature.BORDERS, edgecolor='black', linewidth=1)\n",
    "    ax.add_feature(cfeature.COASTLINE, edgecolor='black', linewidth=1)\n",
    "\n",
    "    if (projection==ccrs.PlateCarree()):\n",
    "        ax.set_extent([lonmin, lonmax, latmin, latmax], projection)\n",
    "        gl = ax.gridlines(draw_labels=True, linestyle='--')\n",
    "        gl.top_labels=False\n",
    "        gl.right_labels=False\n",
    "        gl.xformatter=LONGITUDE_FORMATTER\n",
    "        gl.yformatter=LATITUDE_FORMATTER\n",
    "        gl.xlabel_style={'size':14}\n",
    "        gl.ylabel_style={'size':14}\n",
    "\n",
    "    if(set_global):\n",
    "        ax.set_global()\n",
    "        ax.gridlines()\n",
    "\n",
    "    cbar = fig.colorbar(img, ax=ax, orientation='horizontal', fraction=0.04, pad=0.1)\n",
    "    cbar.set_label(unit, fontsize=16)\n",
    "    cbar.ax.tick_params(labelsize=14)\n",
    "    ax.set_title(long_name, fontsize=20, pad=20.0)\n",
    "\n",
    " #   plt.show()\n",
    "    return fig, ax"
   ]
  },
  {
   "cell_type": "markdown",
   "metadata": {},
   "source": [
    "<hr>"
   ]
  },
  {
   "cell_type": "markdown",
   "metadata": {},
   "source": [
    "<p><img src='./img/copernicus_logo.png' align='right' alt='Logo EU Copernicus' width='20%'></img></p>\n",
    "<br><br><br><br><br>\n",
    "<span style='float:right'><p style=\\\"text-align:right;\\\">This project is licensed under <a href=\"./LICENSE\">APACHE License 2.0</a>. | <a href=\\\"https://github.com/ecmwf-projects/copernicus-training\">View on GitHub</a></span>"
   ]
  }
 ],
 "metadata": {
  "kernelspec": {
   "display_name": "Python 3 (ipykernel)",
   "language": "python",
   "name": "python3"
  },
  "language_info": {
   "codemirror_mode": {
    "name": "ipython",
    "version": 3
   },
   "file_extension": ".py",
   "mimetype": "text/x-python",
   "name": "python",
   "nbconvert_exporter": "python",
   "pygments_lexer": "ipython3",
   "version": "3.9.7"
  }
 },
 "nbformat": 4,
 "nbformat_minor": 4
}
