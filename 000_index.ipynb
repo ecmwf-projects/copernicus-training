{
 "cells": [
  {
   "cell_type": "markdown",
   "metadata": {},
   "source": [
    "<img src='./img/header_placeholder.png' alt='Logo EU Copernicus ECMWF' align='right' width='100%'></img>"
   ]
  },
  {
   "cell_type": "markdown",
   "metadata": {},
   "source": [
    "<br>"
   ]
  },
  {
   "cell_type": "markdown",
   "metadata": {},
   "source": [
    "# Training on data from the Copernicus Climate Change (C3S) and Atmosphere Monitoring (CAMS) Services"
   ]
  },
  {
   "cell_type": "markdown",
   "metadata": {},
   "source": [
    "This repository hosts Jupyter notebook training material for the [Copernicus Climate Change Service (C3S)](https://climate.copernicus.eu/) and the [Copernicus Atmosphere Monitoring Service (CAMS)](https://atmosphere.copernicus.eu/). \n",
    "\n",
    "The training is designed for everyone who is interested in data from the two Copernicus services C3S and CAMS and has the following objectives:\n",
    "* to showcase how data can be accessed via the [Climate Data Store (CDS)](https://cds.climate.copernicus.eu/cdsapp#!/home) and the [Atmosphere Data Store (ADS)](https://ads.atmosphere.copernicus.eu/#!/home), and\n",
    "* to offer `example applications` and `analysis workflows` for different data types"
   ]
  },
  {
   "cell_type": "markdown",
   "metadata": {},
   "source": [
    "## Overview"
   ]
  },
  {
   "cell_type": "markdown",
   "metadata": {},
   "source": [
    "* [Course outline](#outline)\n",
    "* [How to use these training modules](#howto)"
   ]
  },
  {
   "cell_type": "markdown",
   "metadata": {},
   "source": [
    "<hr>"
   ]
  },
  {
   "cell_type": "markdown",
   "metadata": {},
   "source": [
    "## <a id='outline'></a>Course outline"
   ]
  },
  {
   "cell_type": "markdown",
   "metadata": {},
   "source": [
    "The course is structured in two main parts and each part contains an introducation to the data access system as well as practical application workflows:\n",
    "* [Training on data from the Copernicus Climate Change Service (C3S)](#c3s)\n",
    "* [Training on data from the Copernicus Atmosphere Monitoring Service (CAMS)](#cams)"
   ]
  },
  {
   "cell_type": "markdown",
   "metadata": {},
   "source": [
    "### <a id='c3s'></a> Training on data from the Copernicus Climate Change Service (C3S)"
   ]
  },
  {
   "cell_type": "markdown",
   "metadata": {},
   "source": [
    "#### Introduction to the Climate Data Store (CDS)\n",
    "* [100 - Climate Data Store - Introduction](./100_climate_data_store_intro.ipynb) | [![Binder](https://mybinder.org/badge_logo.svg)](https://mybinder.org/v2/gh/ecmwf-projects/copernicus-training/HEAD?urlpath=lab/tree/100_climate_data_store_intro.ipynb) or view a static version via [**nbviewer**](https://nbviewer.org/github/ecmwf-projects/copernicus-training/blob/master/100_climate_data_store_intro.ipynb)\n",
    "\n",
    "#### Analysis examples - Climate reanalysis data\n",
    "* [111 - Climate reanalysis - Climatologies and anomalies](./111_c3s_climatologies_anomalies.ipynb) | [![Binder](https://mybinder.org/badge_logo.svg)](https://mybinder.org/v2/gh/ecmwf-projects/copernicus-training/HEAD?urlpath=lab/tree/111_c3s_climatologies_anomalies.ipynb) or view a static version via [**nbviewer**](https://nbviewer.org/github/ecmwf-projects/copernicus-training/blob/master/111_c3s_climatologies_anomalies.ipynb)\n",
    "* [112 - Climate reanalysis - Climate extremes](./112_c3s_climate_extremes.ipynb) | [![Binder](https://mybinder.org/badge_logo.svg)](https://mybinder.org/v2/gh/ecmwf-projects/copernicus-training/HEAD?urlpath=lab/tree/112_c3s_climate_extremes.ipynb) or view a static version via [**nbviewer**](https://nbviewer.org/github/ecmwf-projects/copernicus-training/blob/master/112_c3s_climate_extremes.ipynb)\n",
    "* [113 - Climate reanalysis - Climate indices](./113_c3s_climate_indices.ipynb) | [![Binder](https://mybinder.org/badge_logo.svg)](https://mybinder.org/v2/gh/ecmwf-projects/copernicus-training/HEAD?urlpath=lab/tree/113_c3s_climate_indices.ipynb) or view a static version via [**nbviewer**](https://nbviewer.org/github/ecmwf-projects/copernicus-training/blob/master/113_c3s_climate_indices.ipynb)\n",
    "\n",
    "#### Analysis examples - Seasonal forecasts\n",
    "* [121 - Seasonal forecasts - Anomalies](./121_c3s_seasonal_forecasts_anomalies.ipynb) | [![Binder](https://mybinder.org/badge_logo.svg)](https://mybinder.org/v2/gh/ecmwf-projects/copernicus-training/HEAD?urlpath=lab/tree/121_c3s_seasonal_forecasts_anomalies.ipynb) or view a static version via [**nbviewer**](https://nbviewer.org/github/ecmwf-projects/copernicus-training/blob/master/121_c3s_seasonal_forecasts_anomalies.ipynb)\n",
    "* [122 - Seasonal forecasts - Bias visualisation](./122_c3s_seasonal_forecasts_bias_visualisation.ipynb) | [![Binder](https://mybinder.org/badge_logo.svg)](https://mybinder.org/v2/gh/ecmwf-projects/copernicus-training/HEAD?urlpath=lab/tree/122_c3s_seasonal_forecasts_bias_visualisation.ipynb) or view a static version via [**nbviewer**](https://nbviewer.org/github/ecmwf-projects/copernicus-training/blob/master/122_c3s_seasonal_forecasts_bias_visualisation.ipynb)\n",
    "\n",
    "#### Analysis examples - Climate projections\n",
    "* [131 - CMIP6 Global climate projections](./131_c3s_cmip6_global_climate_projections.ipynb) | [![Binder](https://mybinder.org/badge_logo.svg)](https://mybinder.org/v2/gh/ecmwf-projects/copernicus-training/HEAD?urlpath=lab/tree/131_c3s_cmip6_global_climate_projections.ipynb) or view a static version via [**nbviewer**](https://nbviewer.org/github/ecmwf-projects/copernicus-training/blob/master/131_c3s_cmip6_global_climate_projections.ipynb)\n",
    "* [132 - CORDEX Region climate projections](./132_c3s_cordex_regional_climate_projections.ipynb) | [![Binder](https://mybinder.org/badge_logo.svg)](https://mybinder.org/v2/gh/ecmwf-projects/copernicus-training/HEAD?urlpath=lab/tree/132_c3s_cordex_regional_climate_projections.ipynb) or view a static version via [**nbviewer**](https://nbviewer.org/github/ecmwf-projects/copernicus-training/blob/master/132_c3s_cordex_regional_climate_projections.ipynb)"
   ]
  },
  {
   "cell_type": "markdown",
   "metadata": {},
   "source": [
    "### <a id='cams'></a> Training on data from Copernicus Atmosphere Monitoring Service (CAMS) data"
   ]
  },
  {
   "cell_type": "markdown",
   "metadata": {},
   "source": [
    "#### Introduction to the Atmosphere Data Store\n",
    "* [200 - Atmosphere Data Store - Introduction](./200_atmosphere_data_store_intro.ipynb) | [![Binder](https://mybinder.org/badge_logo.svg)](https://mybinder.org/v2/gh/ecmwf-projects/copernicus-training/HEAD?urlpath=lab/tree/200_atmosphere_data_store_intro.ipynb) or view a static version via [**nbviewer**](https://nbviewer.org/github/ecmwf-projects/copernicus-training/blob/master/200_atmosphere_data_store_intro.ipynb)\n",
    "\n",
    "#### Application examples\n",
    "* [211 - CAMS wildfire emissions](./211_cams_fire_monitoring.ipynb) | [![Binder](https://mybinder.org/badge_logo.svg)](https://mybinder.org/v2/gh/ecmwf-projects/copernicus-training/HEAD?urlpath=lab/tree/211_cams_fire_monitoring.ipynb) or view a static version via [**nbviewer**](https://nbviewer.org/github/ecmwf-projects/copernicus-training/blob/master/211_cams_fire_monitoring.ipynb)\n",
    "* [212 - CAMS dust monitoring](./212_cams_dust_monitoring.ipynb) | [![Binder](https://mybinder.org/badge_logo.svg)](https://mybinder.org/v2/gh/ecmwf-projects/copernicus-training/HEAD?urlpath=lab/tree/212_cams_dust_monitoring.ipynb) or view a static version via [**nbviewer**](https://nbviewer.org/github/ecmwf-projects/copernicus-training/blob/master/212_cams_dust_monitoring.ipynb)\n",
    "* [213 - CAMS global reanalysis (EAC4) monthly averaged fields](./213_cams_global_reanalysis.ipynb) | [![Binder](https://mybinder.org/badge_logo.svg)](https://mybinder.org/v2/gh/ecmwf-projects/copernicus-training/HEAD?urlpath=lab/tree/213_cams_global_reanalysis.ipynb) or view a static version via [**nbviewer**](https://nbviewer.org/github/ecmwf-projects/copernicus-training/blob/master/213_cams_global_reanalysis.ipynb)\n",
    "* [214 - CAMS cross-section plot of sulphur dioxide (SO<sub>2</sub>) for La Palma volcanic eruption in October 2021](./214_cams_vertical_cross_section_volcanic_eruption.ipynb) | [![Binder](https://mybinder.org/badge_logo.svg)](https://mybinder.org/v2/gh/ecmwf-projects/copernicus-training/HEAD?urlpath=lab/tree/214_cams_vertical_cross_section_volcanic_eruption.ipynb) or view a static version via [**nbviewer**](https://nbviewer.org/github/ecmwf-projects/copernicus-training/blob/master/214_cams_vertical_cross_section_volcanic_eruption.ipynb)\n",
    "* [215 - CAMS European air quality index (EAQI](./215_cams_european_air_quality_index.ipynb) | [![Binder](https://mybinder.org/badge_logo.svg)](https://mybinder.org/v2/gh/ecmwf-projects/copernicus-training/HEAD?urlpath=lab/tree/215_cams_european_air_quality_index.ipynb) or view a static version via [**nbviewer**](https://nbviewer.org/github/ecmwf-projects/copernicus-training/blob/master/215_european_air_quality_index.ipynb)"
   ]
  },
  {
   "cell_type": "markdown",
   "metadata": {},
   "source": [
    "<br>"
   ]
  },
  {
   "cell_type": "markdown",
   "metadata": {},
   "source": [
    "## <a id='howto'></a>How to use these training modules\n",
    "This training material is made freely available on the [ecmwf-projects](https://github.com/ecmwf-projects) Github space under a [Apache 2.0 license](./LICENSE). There are several ways how you can use these training modules:\n",
    "* [**nbviewer**](https://nbviewer.org/github/ecmwf-projects/copernicus-training/blob/master/000_index.ipynb)\n",
    "* [**Colab**](https://colab.research.google.com/github/ecmwf-projects/copernicus-training/blob/master/000_index.ipynb)\n",
    "* [**Binder**](https://mybinder.org/v2/gh/ecmwf-projects/copernicus-training/HEAD?urlpath=lab/tree/000_index.ipynb)\n",
    "* [**Kaggle**](https://kaggle.com/kernels/welcome?src=https://github.com/ecmwf-projects/copernicus-training/blob/master/000_index.ipynb)"
   ]
  },
  {
   "cell_type": "markdown",
   "metadata": {},
   "source": [
    "<hr>"
   ]
  },
  {
   "cell_type": "markdown",
   "metadata": {},
   "source": [
    "<p><img src='./img/copernicus_logo.png' align='right' alt='Logo EU Copernicus' width='20%'></img></p>\n",
    "<br><br><br><br>\n",
    "<span style='float:right'><p style=\\\"text-align:right;\\\">This project is licensed under <a href=\"./LICENSE\">APACHE License 2.0</a>. | <a href=\\\"https://github.com/ecmwf-projects/copernicus-training\">View on GitHub</a></span>"
   ]
  }
 ],
 "metadata": {
  "kernelspec": {
   "display_name": "Python 3",
   "language": "python",
   "name": "python3"
  },
  "language_info": {
   "codemirror_mode": {
    "name": "ipython",
    "version": 3
   },
   "file_extension": ".py",
   "mimetype": "text/x-python",
   "name": "python",
   "nbconvert_exporter": "python",
   "pygments_lexer": "ipython3",
   "version": "3.8.8"
  }
 },
 "nbformat": 4,
 "nbformat_minor": 4
}
